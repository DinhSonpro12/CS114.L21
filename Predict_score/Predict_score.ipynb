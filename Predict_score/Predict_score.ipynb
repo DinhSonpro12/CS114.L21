{
  "nbformat": 4,
  "nbformat_minor": 0,
  "metadata": {
    "colab": {
      "name": "Predict_score.ipynb",
      "provenance": [],
      "collapsed_sections": []
    },
    "kernelspec": {
      "name": "python3",
      "display_name": "Python 3"
    },
    "language_info": {
      "name": "python"
    }
  },
  "cells": [
    {
      "cell_type": "code",
      "metadata": {
        "colab": {
          "base_uri": "https://localhost:8080/"
        },
        "id": "5nRFGyWyAzTX",
        "outputId": "0d7d7294-5a7e-43e4-bbf9-fa75442776a3"
      },
      "source": [
        "# from google.colab import drive\n",
        "# drive.mount('/content/drive')\n",
        "!git clone https://github.com/nguyenluan2001/CS114.L21\n",
        "url_wecode = '/content/CS114.L21/Predict_score/wecode.csv'\n"
      ],
      "execution_count": 156,
      "outputs": [
        {
          "output_type": "stream",
          "text": [
            "fatal: destination path 'CS114.L21' already exists and is not an empty directory.\n"
          ],
          "name": "stdout"
        }
      ]
    },
    {
      "cell_type": "code",
      "metadata": {
        "id": "XesMWFt6CBF-",
        "colab": {
          "base_uri": "https://localhost:8080/",
          "height": 200
        },
        "outputId": "b0203490-8fdc-4010-b013-e1a60105d90b"
      },
      "source": [
        "import pandas as pd \n",
        "df=pd.read_csv(url_wecode)\n",
        "df.head()"
      ],
      "execution_count": 157,
      "outputs": [
        {
          "output_type": "execute_result",
          "data": {
            "text/html": [
              "<div>\n",
              "<style scoped>\n",
              "    .dataframe tbody tr th:only-of-type {\n",
              "        vertical-align: middle;\n",
              "    }\n",
              "\n",
              "    .dataframe tbody tr th {\n",
              "        vertical-align: top;\n",
              "    }\n",
              "\n",
              "    .dataframe thead th {\n",
              "        text-align: right;\n",
              "    }\n",
              "</style>\n",
              "<table border=\"1\" class=\"dataframe\">\n",
              "  <thead>\n",
              "    <tr style=\"text-align: right;\">\n",
              "      <th></th>\n",
              "      <th>id</th>\n",
              "      <th>assignment_id</th>\n",
              "      <th>problem_id</th>\n",
              "      <th>user_id</th>\n",
              "      <th>is_final</th>\n",
              "      <th>status</th>\n",
              "      <th>pre_score</th>\n",
              "      <th>coefficient</th>\n",
              "      <th>file_name</th>\n",
              "      <th>language_id</th>\n",
              "      <th>created_at</th>\n",
              "      <th>updated_at</th>\n",
              "    </tr>\n",
              "  </thead>\n",
              "  <tbody>\n",
              "    <tr>\n",
              "      <th>0</th>\n",
              "      <td>4</td>\n",
              "      <td>0</td>\n",
              "      <td>3</td>\n",
              "      <td>4</td>\n",
              "      <td>1</td>\n",
              "      <td>SCORE</td>\n",
              "      <td>10000</td>\n",
              "      <td>100</td>\n",
              "      <td>solution-0</td>\n",
              "      <td>2</td>\n",
              "      <td>2020-10-30 10:58:11</td>\n",
              "      <td>2020-10-30 10:58:19</td>\n",
              "    </tr>\n",
              "    <tr>\n",
              "      <th>1</th>\n",
              "      <td>5</td>\n",
              "      <td>0</td>\n",
              "      <td>4</td>\n",
              "      <td>4</td>\n",
              "      <td>1</td>\n",
              "      <td>SCORE</td>\n",
              "      <td>10000</td>\n",
              "      <td>100</td>\n",
              "      <td>solution-1</td>\n",
              "      <td>2</td>\n",
              "      <td>2020-10-30 11:07:09</td>\n",
              "      <td>2020-10-30 11:07:17</td>\n",
              "    </tr>\n",
              "    <tr>\n",
              "      <th>2</th>\n",
              "      <td>6</td>\n",
              "      <td>0</td>\n",
              "      <td>5</td>\n",
              "      <td>4</td>\n",
              "      <td>0</td>\n",
              "      <td>Compilation Error</td>\n",
              "      <td>0</td>\n",
              "      <td>100</td>\n",
              "      <td>solution-2</td>\n",
              "      <td>2</td>\n",
              "      <td>2020-10-30 11:08:01</td>\n",
              "      <td>2020-10-30 11:23:36</td>\n",
              "    </tr>\n",
              "    <tr>\n",
              "      <th>3</th>\n",
              "      <td>7</td>\n",
              "      <td>0</td>\n",
              "      <td>5</td>\n",
              "      <td>4</td>\n",
              "      <td>0</td>\n",
              "      <td>Compilation Error</td>\n",
              "      <td>0</td>\n",
              "      <td>100</td>\n",
              "      <td>solution-3</td>\n",
              "      <td>2</td>\n",
              "      <td>2020-10-30 11:11:41</td>\n",
              "      <td>2020-10-30 11:11:42</td>\n",
              "    </tr>\n",
              "    <tr>\n",
              "      <th>4</th>\n",
              "      <td>8</td>\n",
              "      <td>0</td>\n",
              "      <td>5</td>\n",
              "      <td>4</td>\n",
              "      <td>0</td>\n",
              "      <td>Compilation Error</td>\n",
              "      <td>0</td>\n",
              "      <td>100</td>\n",
              "      <td>solution-4</td>\n",
              "      <td>2</td>\n",
              "      <td>2020-10-30 11:15:06</td>\n",
              "      <td>2020-10-30 11:15:07</td>\n",
              "    </tr>\n",
              "  </tbody>\n",
              "</table>\n",
              "</div>"
            ],
            "text/plain": [
              "   id  assignment_id  ...           created_at           updated_at\n",
              "0   4              0  ...  2020-10-30 10:58:11  2020-10-30 10:58:19\n",
              "1   5              0  ...  2020-10-30 11:07:09  2020-10-30 11:07:17\n",
              "2   6              0  ...  2020-10-30 11:08:01  2020-10-30 11:23:36\n",
              "3   7              0  ...  2020-10-30 11:11:41  2020-10-30 11:11:42\n",
              "4   8              0  ...  2020-10-30 11:15:06  2020-10-30 11:15:07\n",
              "\n",
              "[5 rows x 12 columns]"
            ]
          },
          "metadata": {
            "tags": []
          },
          "execution_count": 157
        }
      ]
    },
    {
      "cell_type": "markdown",
      "metadata": {
        "id": "atU9-Jh5tL0U"
      },
      "source": [
        "**Tính tổng số problem của từng user**"
      ]
    },
    {
      "cell_type": "code",
      "metadata": {
        "colab": {
          "base_uri": "https://localhost:8080/"
        },
        "id": "Z17oa7LbFMnS",
        "outputId": "b3e07ae4-fb5b-4ee7-9da4-f45320e4eb49"
      },
      "source": [
        "# lấy problem_id đã làm của từng user_id\n",
        "problems=df.groupby(\"user_id\")[\"problem_id\"].count()\n",
        "# temp2=df.groupby(\"user_id\")[\"pre_score\"].apply(list)\n",
        "print(problems)\n",
        "# print(listProblemId.iat[0])"
      ],
      "execution_count": 158,
      "outputs": [
        {
          "output_type": "stream",
          "text": [
            "user_id\n",
            "1         2\n",
            "4        54\n",
            "5         6\n",
            "6       130\n",
            "7         5\n",
            "       ... \n",
            "1860     76\n",
            "1862     12\n",
            "1864    187\n",
            "1865     99\n",
            "1868     47\n",
            "Name: problem_id, Length: 1159, dtype: int64\n"
          ],
          "name": "stdout"
        }
      ]
    },
    {
      "cell_type": "markdown",
      "metadata": {
        "id": "MMNxbhW9tfIi"
      },
      "source": [
        "**Tính tổng điểm của từng user**"
      ]
    },
    {
      "cell_type": "code",
      "metadata": {
        "colab": {
          "base_uri": "https://localhost:8080/"
        },
        "id": "1Bml5_2QsKeX",
        "outputId": "574201ca-9731-4858-e09c-56c243694bc5"
      },
      "source": [
        "# Tình tổng điểm của mỗi user\n",
        "totalScores=df.groupby(\"user_id\")[\"pre_score\"].sum()\n",
        "print(totalScores)\n"
      ],
      "execution_count": 159,
      "outputs": [
        {
          "output_type": "stream",
          "text": [
            "user_id\n",
            "1        10000\n",
            "4       466000\n",
            "5        30000\n",
            "6       965637\n",
            "7        18843\n",
            "         ...  \n",
            "1860    405440\n",
            "1862     40000\n",
            "1864    563292\n",
            "1865    189460\n",
            "1868    390000\n",
            "Name: pre_score, Length: 1159, dtype: int64\n"
          ],
          "name": "stdout"
        }
      ]
    },
    {
      "cell_type": "markdown",
      "metadata": {
        "id": "9j9HzEQwt6HV"
      },
      "source": [
        "**Tính số lần status=Compilation Error của từng user**"
      ]
    },
    {
      "cell_type": "code",
      "metadata": {
        "colab": {
          "base_uri": "https://localhost:8080/"
        },
        "id": "hRKCH33IuIop",
        "outputId": "b8441259-7a5f-44b0-af3f-1c8a493e9b69"
      },
      "source": [
        "compError=df.loc[(df.status == \"Compilation Error\")].groupby('user_id')['problem_id'].count()\n",
        "print(compError)"
      ],
      "execution_count": 160,
      "outputs": [
        {
          "output_type": "stream",
          "text": [
            "user_id\n",
            "1        1\n",
            "4        6\n",
            "5        2\n",
            "6       25\n",
            "11       7\n",
            "        ..\n",
            "1859     9\n",
            "1860    10\n",
            "1862     4\n",
            "1864    55\n",
            "1865    40\n",
            "Name: problem_id, Length: 1143, dtype: int64\n"
          ],
          "name": "stdout"
        }
      ]
    },
    {
      "cell_type": "markdown",
      "metadata": {
        "id": "JF094CL08a1K"
      },
      "source": [
        "**Tính số lần status=SCORE của từng user**"
      ]
    },
    {
      "cell_type": "code",
      "metadata": {
        "id": "c_KdG3YUucEO",
        "colab": {
          "base_uri": "https://localhost:8080/"
        },
        "outputId": "e07cb112-9264-4c70-b7a2-82651701abab"
      },
      "source": [
        "score=df.loc[(df.status == \"SCORE\")].groupby('user_id')['problem_id'].count()\n",
        "print(score)"
      ],
      "execution_count": 161,
      "outputs": [
        {
          "output_type": "stream",
          "text": [
            "user_id\n",
            "1         1\n",
            "4        48\n",
            "5         4\n",
            "6       105\n",
            "7         5\n",
            "       ... \n",
            "1860     66\n",
            "1862      8\n",
            "1864    132\n",
            "1865     59\n",
            "1868     47\n",
            "Name: problem_id, Length: 1155, dtype: int64\n"
          ],
          "name": "stdout"
        }
      ]
    },
    {
      "cell_type": "markdown",
      "metadata": {
        "id": "GfuzYzIIDHZD"
      },
      "source": [
        "**Nối các dữ liệu vừa tìm được lại**"
      ]
    },
    {
      "cell_type": "code",
      "metadata": {
        "colab": {
          "base_uri": "https://localhost:8080/"
        },
        "id": "oY2BMuUH9WWP",
        "outputId": "075725f7-f30e-46ec-b087-174dca9d35ea"
      },
      "source": [
        "frames=[problems,totalScores]\n",
        "result=pd.concat([problems,totalScores,compError], axis=1, keys=[\"problems\", \"totalScores\", \"compError\"])\n",
        "print(result)"
      ],
      "execution_count": 162,
      "outputs": [
        {
          "output_type": "stream",
          "text": [
            "         problems  totalScores  compError\n",
            "user_id                                  \n",
            "1               2        10000        1.0\n",
            "4              54       466000        6.0\n",
            "5               6        30000        2.0\n",
            "6             130       965637       25.0\n",
            "7               5        18843        NaN\n",
            "...           ...          ...        ...\n",
            "1860           76       405440       10.0\n",
            "1862           12        40000        4.0\n",
            "1864          187       563292       55.0\n",
            "1865           99       189460       40.0\n",
            "1868           47       390000        NaN\n",
            "\n",
            "[1159 rows x 3 columns]\n"
          ],
          "name": "stdout"
        }
      ]
    }
  ]
}